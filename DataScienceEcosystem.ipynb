{
 "cells": [
  {
   "cell_type": "markdown",
   "id": "566dcf41-fb8c-4d38-88a5-a52ee53cea6c",
   "metadata": {},
   "source": [
    "# Data Science Tools and Ecosystem"
   ]
  },
  {
   "cell_type": "markdown",
   "id": "1f4dfb69-2c7b-4053-a2ad-b100d213dd45",
   "metadata": {},
   "source": [
    "## Author\n",
    "Clement Charbuillet"
   ]
  },
  {
   "cell_type": "markdown",
   "id": "b0061bb2-85d0-4d50-9d85-7227cc04af3e",
   "metadata": {},
   "source": [
    "In this notebook, Data Science Tools ad Ecosystem are summarized"
   ]
  },
  {
   "cell_type": "markdown",
   "id": "c12ac539-0227-4fd2-9a90-aaafac98ff2a",
   "metadata": {},
   "source": [
    "__Objectives:__\n",
    "* List some popular languages\n",
    "* List some commonly used libraries\n",
    "* Implement some simple python code"
   ]
  },
  {
   "cell_type": "markdown",
   "id": "cd8a98c4-4fec-4860-9852-4fd6b69e2576",
   "metadata": {},
   "source": [
    "Some of the popular languages that Data Scientists use are:\n",
    "1. R\n",
    "2. Python\n",
    "3. Julia\n",
    "4. Scala"
   ]
  },
  {
   "cell_type": "markdown",
   "id": "cb907e44-6271-4e91-9020-0eae24712c57",
   "metadata": {},
   "source": [
    "Some of the commonly used libraries and used by Data Scientists include:\n",
    "1. matplotlib\n",
    "2. pandas\n",
    "3. scikit\n",
    "4. ggplot2\n"
   ]
  },
  {
   "cell_type": "markdown",
   "id": "2ba38e0a-dbc0-4867-a5e2-02823d30d75d",
   "metadata": {},
   "source": [
    "| Data Science Tools |\n",
    "| --- |\n",
    "| Jupyterlab |\n",
    "| RStudio |\n",
    "| Spyder |"
   ]
  },
  {
   "cell_type": "markdown",
   "id": "2294ceb1-f3ac-49d0-9b91-26ebe2e373c2",
   "metadata": {},
   "source": [
    "Below are a few examples of evaluating arithmeic expressions in Python."
   ]
  },
  {
   "cell_type": "code",
   "execution_count": 2,
   "id": "32938a2e-dde8-4c44-bf28-26d88d99eb22",
   "metadata": {
    "tags": []
   },
   "outputs": [
    {
     "data": {
      "text/plain": [
       "17"
      ]
     },
     "execution_count": 2,
     "metadata": {},
     "output_type": "execute_result"
    }
   ],
   "source": [
    "# This is a simple arithmetic expression to multiply then add integers\n",
    "(3*4)+5"
   ]
  },
  {
   "cell_type": "code",
   "execution_count": 3,
   "id": "d69ad6ee-6100-4069-9ff0-528073500121",
   "metadata": {
    "tags": []
   },
   "outputs": [
    {
     "data": {
      "text/plain": [
       "3.3333333333333335"
      ]
     },
     "execution_count": 3,
     "metadata": {},
     "output_type": "execute_result"
    }
   ],
   "source": [
    "# This will convert 200 minutes to hours by dividing by 60.\n",
    "200/60"
   ]
  },
  {
   "cell_type": "markdown",
   "id": "a8e3098e-2953-4a75-a84f-553adc44bb3a",
   "metadata": {},
   "source": []
  }
 ],
 "metadata": {
  "kernelspec": {
   "display_name": "Python",
   "language": "python",
   "name": "conda-env-python-py"
  },
  "language_info": {
   "codemirror_mode": {
    "name": "ipython",
    "version": 3
   },
   "file_extension": ".py",
   "mimetype": "text/x-python",
   "name": "python",
   "nbconvert_exporter": "python",
   "pygments_lexer": "ipython3",
   "version": "3.7.12"
  }
 },
 "nbformat": 4,
 "nbformat_minor": 5
}
